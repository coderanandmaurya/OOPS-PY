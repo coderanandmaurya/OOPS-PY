{
 "cells": [
  {
   "cell_type": "markdown",
   "id": "6dc2cf1a",
   "metadata": {},
   "source": [
    "# OOPS\n",
    "Method of writing code:\n",
    "- Everything in python is an object \n",
    "\n",
    "## The Problem\n",
    "\n",
    "- in 2010 all things are offline BANK, TRAIN BUS TICCKET BOOKING HOTEL VISITING, FOOD\n",
    "- in 2022 all soln online \n",
    "- 1. idea is convert all real aspect to software\n",
    "- 2. when code is bigger simple things became complex adding new feature is difficult.\n",
    "- 3. code with planning.\n",
    "- generality to Specificity.\n",
    "\n",
    "**OOPS**\n",
    "\n",
    "- As a Program you can create your own Datatype.\n",
    "- Making Linkdin with Pre Built vs OOPS\n",
    "- Hacking with LInux hacking with Windows\n",
    "\n",
    "## IDEA: Making \n"
   ]
  }
 ],
 "metadata": {
  "kernelspec": {
   "display_name": "Python 3.10.5 64-bit",
   "language": "python",
   "name": "python3"
  },
  "language_info": {
   "codemirror_mode": {
    "name": "ipython",
    "version": 3
   },
   "file_extension": ".py",
   "mimetype": "text/x-python",
   "name": "python",
   "nbconvert_exporter": "python",
   "pygments_lexer": "ipython3",
   "version": "3.10.5"
  },
  "vscode": {
   "interpreter": {
    "hash": "369f2c481f4da34e4445cda3fffd2e751bd1c4d706f27375911949ba6bb62e1c"
   }
  }
 },
 "nbformat": 4,
 "nbformat_minor": 5
}
