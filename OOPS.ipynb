{
 "cells": [
  {
   "cell_type": "markdown",
   "id": "5ded5eb0",
   "metadata": {},
   "source": [
    "**OOPS**\n",
    "\n",
    "In Python, object-oriented Programming (OOPs) is a programming paradigm that uses objects and classes in programming. It aims to implement real-world entities like inheritance, polymorphisms, encapsulation, etc. in the programming. The main concept of OOPs is to bind the data and the functions that work on that together as a single unit so that no other part of the code can access this data.\n",
    "\n",
    "Main Concepts of Object-Oriented Programming (OOPs) \n",
    "- Class\n",
    "- Objects\n",
    "- Polymorphism\n",
    "- Encapsulation\n",
    "- Inheritance\n",
    "- Data Abstraction"
   ]
  },
  {
   "cell_type": "markdown",
   "id": "2c55646b",
   "metadata": {},
   "source": [
    "**Class** \n",
    "\n",
    "A class is a collection of objects. A class contains the blueprints or the prototype from which the objects are being created. It is a logical entity that contains some attributes and methods. \n",
    "\n",
    "To understand the need for creating a class let’s consider an example, let’s say you wanted to track the number of dogs that may have different attributes like breed, age. If a list is used, the first element could be the dog’s breed while the second element could represent its age. Let’s suppose there are 100 different dogs, then how would you know which element is supposed to be which? What if you wanted to add other properties to these dogs? This lacks organization and it’s the exact need for classes. \n",
    "\n",
    "Some points on Python class:  \n",
    "\n",
    "- Classes are created by keyword class.\n",
    "- Attributes are the variables that belong to a class.\n",
    "- Attributes are always public and can be accessed using the dot (.) operator. Eg.: Myclass.Myattribute"
   ]
  },
  {
   "cell_type": "code",
   "execution_count": 3,
   "id": "6a030b16",
   "metadata": {},
   "outputs": [],
   "source": [
    "#Class Definition Syntax:\n",
    "\n",
    "#class ClassName:\n",
    "   # Statement-1\n",
    "   \n",
    "   \n",
    "   \n",
    "   # Statement-N"
   ]
  },
  {
   "cell_type": "code",
   "execution_count": 1,
   "id": "eb505cb8",
   "metadata": {},
   "outputs": [],
   "source": [
    "# Python3 program to\n",
    "# demonstrate defining\n",
    "# a class\n",
    "\n",
    "class Dog:\n",
    "\tpass\n"
   ]
  },
  {
   "cell_type": "markdown",
   "id": "3210bd1f",
   "metadata": {},
   "source": [
    "**Object**\n",
    "\n",
    "The object is an entity that has a state and behavior associated with it. It may be any real-world object like a mouse, keyboard, chair, table, pen, etc. Integers, strings, floating-point numbers, even arrays, and dictionaries, are all objects. More specifically, any single integer or any single string is an object. The number 12 is an object, the string “Hello, world” is an object, a list is an object that can hold other objects, and so on. You’ve been using objects all along and may not even realize it.\n",
    "\n",
    "An object consists of :\n",
    "\n",
    "- State: It is represented by the attributes of an object. It also reflects the properties of an object.\n",
    "\n",
    "- Behavior: It is represented by the methods of an object. It also reflects the response of an object to other objects.\n",
    "\n",
    "- Identity: It gives a unique name to an object and enables one object to interact with other objects.\n",
    "\n",
    "To understand the state, behavior, and identity let us take the example of the class dog (explained above). \n",
    "\n",
    "- The identity can be considered as the name of the dog.\n",
    "- State or Attributes can be considered as the breed, age, or color of the dog.\n",
    "- The behavior can be considered as to whether the dog is eating or sleeping.\n",
    "Example: Creating an object"
   ]
  },
  {
   "cell_type": "code",
   "execution_count": 4,
   "id": "698fba72",
   "metadata": {},
   "outputs": [],
   "source": [
    "obj = Dog()"
   ]
  },
  {
   "cell_type": "code",
   "execution_count": 5,
   "id": "b727437e",
   "metadata": {},
   "outputs": [
    {
     "data": {
      "text/plain": [
       "<__main__.Dog at 0x2087369e7f0>"
      ]
     },
     "execution_count": 5,
     "metadata": {},
     "output_type": "execute_result"
    }
   ],
   "source": [
    "obj"
   ]
  },
  {
   "cell_type": "markdown",
   "id": "9de7fa69",
   "metadata": {},
   "source": [
    "**The self** \n",
    "\n",
    "Class methods must have an extra first parameter in the method definition. We do not give a value for this parameter when we call the method, Python provides it\n",
    "\n",
    "- If we have a method that takes no arguments, then we still have to have one argument.\n",
    "- This is similar to this pointer in C++ and this reference in Java.\n",
    "- When we call a method of this object as myobject.method(arg1, arg2), this is automatically converted by Python into - MyClass.method(myobject, arg1, arg2) – this is all the special self is about."
   ]
  },
  {
   "cell_type": "markdown",
   "id": "622e6ef0",
   "metadata": {},
   "source": [
    "**The __init__ method**\n",
    "\n",
    "The __init__ method is similar to constructors in C++ and Java. It is run as soon as an object of a class is instantiated. The method is useful to do any initialization you want to do with your object. \n",
    "\n",
    "Now let us define a class and create some objects using the self and __init__ method."
   ]
  },
  {
   "cell_type": "code",
   "execution_count": 17,
   "id": "27427fad",
   "metadata": {},
   "outputs": [],
   "source": [
    "class car:\n",
    "    \n",
    "    # car Attribute or state \n",
    "    color=\"black\"\n",
    "    year=\"1999\"\n",
    "    \n",
    "    def __init__(self,name, id1):\n",
    "        self.name= name\n",
    "        self.id1=id1"
   ]
  },
  {
   "cell_type": "code",
   "execution_count": 18,
   "id": "bb956430",
   "metadata": {},
   "outputs": [],
   "source": [
    "# identity Object Instantiation\n",
    "BMW= car(\"baki\",\"001\")"
   ]
  },
  {
   "cell_type": "code",
   "execution_count": 24,
   "id": "165253a0",
   "metadata": {},
   "outputs": [
    {
     "data": {
      "text/plain": [
       "<__main__.car at 0x208756a4340>"
      ]
     },
     "execution_count": 24,
     "metadata": {},
     "output_type": "execute_result"
    }
   ],
   "source": [
    "BMW"
   ]
  },
  {
   "cell_type": "code",
   "execution_count": 30,
   "id": "ecfbc643",
   "metadata": {},
   "outputs": [
    {
     "name": "stdout",
     "output_type": "stream",
     "text": [
      "BMW color is black\n"
     ]
    }
   ],
   "source": [
    "# class attribute\n",
    "\n",
    "print(\"BMW color is {}\".format(BMW.__class__.color))"
   ]
  },
  {
   "cell_type": "code",
   "execution_count": 29,
   "id": "463ef7bd",
   "metadata": {},
   "outputs": [
    {
     "name": "stdout",
     "output_type": "stream",
     "text": [
      "BMW name is baki\n"
     ]
    }
   ],
   "source": [
    "# instance attribute\n",
    "\n",
    "print(\"BMW name is {}\".format(BMW.name))"
   ]
  },
  {
   "cell_type": "markdown",
   "id": "928ccea5",
   "metadata": {},
   "source": [
    "#### Example 2: Creating Class and objects with methods"
   ]
  },
  {
   "cell_type": "code",
   "execution_count": null,
   "id": "8853eadb",
   "metadata": {},
   "outputs": [],
   "source": [
    "class Dog:\n",
    "\n",
    "\t# class attribute\n",
    "\tattr1 = \"mammal\"\n",
    "\n",
    "\t# Instance attribute\n",
    "\tdef __init__(self, name):\n",
    "\t\tself.name = name\n",
    "\t\t\n",
    "\tdef speak(self):\n",
    "\t\tprint(\"My name is {}\".format(self.name))\n",
    "\n",
    "# Driver code\n",
    "# Object instantiation\n",
    "Rodger = Dog(\"Rodger\")\n",
    "Tommy = Dog(\"Tommy\")\n",
    "\n",
    "# Accessing class methods\n",
    "Rodger.speak()\n",
    "Tommy.speak()\n"
   ]
  },
  {
   "cell_type": "code",
   "execution_count": 31,
   "id": "db308081",
   "metadata": {},
   "outputs": [],
   "source": [
    "class car:\n",
    "    # class attribute\n",
    "    Color=\"Black\"\n",
    "    \n",
    "    # Instance attribute\n",
    "    def __init__(self,name):\n",
    "        self.name=name\n",
    "        \n",
    "    def speak(self):\n",
    "        print(\"my name is {}\".format(self.name))"
   ]
  },
  {
   "cell_type": "code",
   "execution_count": 32,
   "id": "56a11c32",
   "metadata": {},
   "outputs": [],
   "source": [
    "# object instantiation\n",
    "BMW=car(\"Baki\")"
   ]
  },
  {
   "cell_type": "code",
   "execution_count": 33,
   "id": "bb085dea",
   "metadata": {},
   "outputs": [
    {
     "data": {
      "text/plain": [
       "<__main__.car at 0x208756a5430>"
      ]
     },
     "execution_count": 33,
     "metadata": {},
     "output_type": "execute_result"
    }
   ],
   "source": [
    "BMW"
   ]
  },
  {
   "cell_type": "code",
   "execution_count": 34,
   "id": "566455bd",
   "metadata": {},
   "outputs": [
    {
     "name": "stdout",
     "output_type": "stream",
     "text": [
      "my name is Baki\n"
     ]
    }
   ],
   "source": [
    "# accesing class method\n",
    "BMW.speak()"
   ]
  },
  {
   "cell_type": "markdown",
   "id": "f1a37a11",
   "metadata": {},
   "source": [
    "**Inheritance**\n",
    "\n",
    "Inheritance is the capability of one class to derive or inherit the properties from another class. The class that derives properties is called the derived class or child class and the class from which the properties are being derived is called the base class or parent class. The benefits of inheritance are:\n",
    "\n",
    "- It represents real-world relationships well.\n",
    "- It provides the reusability of a code. We don’t have to write the same code again and again. Also, it allows us to add more features to a class without modifying it.\n",
    "- It is transitive in nature, which means that if class B inherits from another class A, then all the subclasses of B would automatically inherit from class A.\n",
    "\n",
    "**Types of Inheritance –**\n",
    "\n",
    "- Single Inheritance:\n",
    "    - Single-level inheritance enables a derived class to inherit characteristics from a single-parent class.\n",
    "\n",
    "- Multilevel Inheritance:\n",
    "    - Multi-level inheritance enables a derived class to inherit properties from an immediate parent class which in turn inherits properties from his parent class.\n",
    "\n",
    "- Hierarchical Inheritance:\n",
    "    - Hierarchical level inheritance enables more than one derived class to inherit properties from a parent class.\n",
    "\n",
    "- Multiple Inheritance:\n",
    "    - Multiple level inheritance enables one derived class to inherit properties from more than one base class."
   ]
  },
  {
   "cell_type": "code",
   "execution_count": null,
   "id": "5af0e706",
   "metadata": {},
   "outputs": [],
   "source": [
    "# Python code to demonstrate how parent constructors\n",
    "# are called.\n",
    "\n",
    "# parent class\n",
    "class Person(object):\n",
    "\n",
    "\t# __init__ is known as the constructor\n",
    "\tdef __init__(self, name, idnumber):\n",
    "\t\tself.name = name\n",
    "\t\tself.idnumber = idnumber\n",
    "\n",
    "\tdef display(self):\n",
    "\t\tprint(self.name)\n",
    "\t\tprint(self.idnumber)\n",
    "\t\t\n",
    "\tdef details(self):\n",
    "\t\tprint(\"My name is {}\".format(self.name))\n",
    "\t\tprint(\"IdNumber: {}\".format(self.idnumber))\n",
    "        \n",
    "\t\n",
    "# child class\n",
    "class Employee(Person):\n",
    "\tdef __init__(self, name, idnumber, salary, post):\n",
    "\t\tself.salary = salary\n",
    "\t\tself.post = post\n",
    "\n",
    "\t\t# invoking the __init__ of the parent class\n",
    "\t\tPerson.__init__(self, name, idnumber)\n",
    "\t\t\n",
    "\tdef details(self):\n",
    "\t\tprint(\"My name is {}\".format(self.name))\n",
    "\t\tprint(\"IdNumber: {}\".format(self.idnumber))\n",
    "\t\tprint(\"Post: {}\".format(self.post))\n",
    "\n",
    "\n",
    "# creation of an object variable or an instance\n",
    "a = Employee('Rahul', 886012, 200000, \"Intern\")\n",
    "\n",
    "# calling a function of the class Person using\n",
    "# its instance\n",
    "a.display()\n",
    "a.details()\n"
   ]
  },
  {
   "cell_type": "code",
   "execution_count": 36,
   "id": "5670ed40",
   "metadata": {},
   "outputs": [],
   "source": [
    "# parent class\n",
    "class Person1(object):\n",
    "    \n",
    "    def __init__(self,name):\n",
    "        self.name=name\n",
    "        \n",
    "    def display(self):\n",
    "        print(self.name)\n",
    "        \n",
    "    def detail(self):\n",
    "        print(\"My name is {}\".format(self.name))"
   ]
  },
  {
   "cell_type": "code",
   "execution_count": 46,
   "id": "169b0aa2",
   "metadata": {},
   "outputs": [],
   "source": [
    "# child Class\n",
    "class Employee(Person1):\n",
    "    def __init__(self,name,salary):\n",
    "        self.salary=salary\n",
    "        \n",
    "        # invoking the __init__ of the parent class\n",
    "        Person1.__init__(self,name)\n",
    "        \n",
    "    def detail(self):\n",
    "        print(\"My name is {}\".format(self.name))\n",
    "        print(\"My name is {}\".format(self.salary))\n",
    "        \n",
    "AM=Employee(\"Anand\",12)"
   ]
  },
  {
   "cell_type": "code",
   "execution_count": 47,
   "id": "8ceeea22",
   "metadata": {},
   "outputs": [
    {
     "name": "stdout",
     "output_type": "stream",
     "text": [
      "Anand\n"
     ]
    }
   ],
   "source": [
    "AM.display()"
   ]
  },
  {
   "cell_type": "code",
   "execution_count": 48,
   "id": "b5457cb6",
   "metadata": {},
   "outputs": [
    {
     "name": "stdout",
     "output_type": "stream",
     "text": [
      "My name is Anand\n",
      "My name is 12\n"
     ]
    }
   ],
   "source": [
    "AM.detail()"
   ]
  },
  {
   "cell_type": "markdown",
   "id": "31f8e5f0",
   "metadata": {},
   "source": [
    "In the above article, we have created two classes i.e. Person (parent class) and Employee (Child Class). The Employee class inherits from the Person class. We can use the methods of the person class through employee class as seen in the display function in the above code. A child class can also modify the behavior of the parent class as seen through the details() method.\n",
    "\n",
    "Note: For more information, refer to our Inheritance in Python tutorial.\n",
    "\n",
    "**Polymorphism**\n",
    "\n",
    "Polymorphism simply means having many forms. For example, we need to determine if the given species of birds fly or not, using polymorphism we can do this using a single function."
   ]
  },
  {
   "cell_type": "code",
   "execution_count": null,
   "id": "62801020",
   "metadata": {},
   "outputs": [],
   "source": [
    "class Bird:\n",
    "\n",
    "\tdef intro(self):\n",
    "\t\tprint(\"There are many types of birds.\")\n",
    "\n",
    "\tdef flight(self):\n",
    "\t\tprint(\"Most of the birds can fly but some cannot.\")\n",
    "\n",
    "class sparrow(Bird):\n",
    "\n",
    "\tdef flight(self):\n",
    "\t\tprint(\"Sparrows can fly.\")\n",
    "\n",
    "class ostrich(Bird):\n",
    "\n",
    "\tdef flight(self):\n",
    "\t\tprint(\"Ostriches cannot fly.\")\n",
    "\n",
    "obj_bird = Bird()\n",
    "obj_spr = sparrow()\n",
    "obj_ost = ostrich()\n",
    "\n",
    "obj_bird.intro()\n",
    "obj_bird.flight()\n",
    "\n",
    "obj_spr.intro()\n",
    "obj_spr.flight()\n",
    "\n",
    "obj_ost.intro()\n",
    "obj_ost.flight()\n"
   ]
  },
  {
   "cell_type": "code",
   "execution_count": null,
   "id": "0c7d0ae2",
   "metadata": {},
   "outputs": [],
   "source": [
    "class bird:\n",
    "    \n",
    "    def intro(self):\n",
    "        print(\"There are many type of birds.\")\n",
    "        \n",
    "    def flight(self):\n",
    "        print(\"Most of the bird can fly but some not\")\n",
    "        \n",
    "class sparrow1(bird):\n",
    "    def flight(self):\n",
    "        print(\"Sparrow can fly\")\n",
    "        \n",
    "class ostrich(bird):\n",
    "    def flight(self):\n",
    "        print(\"Ostrich can not fly\")\n",
    "        \n",
    "bird_obj=bird()\n",
    "spr_obj=sparrow1()\n",
    "ost_obj=ostrich()\n",
    "\n",
    "bird_obj"
   ]
  }
 ],
 "metadata": {
  "kernelspec": {
   "display_name": "Python 3 (ipykernel)",
   "language": "python",
   "name": "python3"
  },
  "language_info": {
   "codemirror_mode": {
    "name": "ipython",
    "version": 3
   },
   "file_extension": ".py",
   "mimetype": "text/x-python",
   "name": "python",
   "nbconvert_exporter": "python",
   "pygments_lexer": "ipython3",
   "version": "3.9.7"
  }
 },
 "nbformat": 4,
 "nbformat_minor": 5
}
